{
 "cells": [
  {
   "attachments": {},
   "cell_type": "markdown",
   "metadata": {},
   "source": [
    "<center><font color=#555555><font size=6> MAF1731 - Microestructura y Sistemas de Trading </font> <br> <br>\n",
    "    \n",
    "<center><font color=#555555><font size=5> Licenciatura en Ingeniería Financiera </font> <br> <br> <br> <br>\n",
    "\n",
    "<center><font color=#555555><font size=6> I. F. ANA VALERIA ARAIZA PERALTA   </font> <br> <br>\n",
    "\n",
    "<center><font color=#555555><font size=6> I. F. ANA PAULA JUÁREZ REDONDO  </font> <br> <br>\n",
    "   \n",
    "<center> <font color= #555555> <font size = 4>  11/02/2023 </a> | <font color= #555555> <font size = 4> Repositorio: <a href = 'git@github.com:AnaPaulaJuarez/LAB1.git'>Link</a></font>"
   ]
  },
  {
   "attachments": {},
   "cell_type": "markdown",
   "metadata": {},
   "source": [
    "<center> <font color= #555555> <font size = 6> Laboratorio 1. Inversión de Capital </font> <br> <br> <font color= #555555> <font size = 5> La mejor manera de invertir 1 millón de pesos </font>"
   ]
  },
  {
   "attachments": {},
   "cell_type": "markdown",
   "metadata": {},
   "source": [
    "<font color= #555555> <font size = 4> Abstract </font>\n"
   ]
  },
  {
   "attachments": {},
   "cell_type": "markdown",
   "metadata": {},
   "source": [
    "<font color= #6B6B6B> <font size = 3> `La inversión en el mercado financiero puede abordarse de diferentes maneras, y dos de las más conocidas son la inversión pasiva y la inversión activa. Ambos enfoques tienen sus ventajas e inconvenientes, y es importante comprenderlos antes de decidir cuál es el más adecuado para cada uno.\n",
    "\n",
    "La inversión pasiva consiste en invertir en un fondo de índice, como el NAFTRAC, que replica el comportamiento de un índice bursátil determinado. La idea es comprar y mantener, sin intentar predecir el comportamiento del mercado. Esta estrategia se basa en la teoría de que, a largo plazo, el mercado tiende a crecer y que es difícil, si no imposible, superar el rendimiento del mercado a través de la selección activa de acciones.\n",
    "\n",
    "Por otro lado, la inversión activa consiste en la formación de un portafolio eficiente con un rebalanceo constante de acuerdo a un algoritmo definido. El objetivo es superar el rendimiento del mercado a través de la selección cuidadosa de acciones y la optimización constante del portafolio. Esta estrategia requiere una mayor dedicación y conocimiento del mercado, así como un mayor riesgo. Los siguientes enlaces incluyen mas información sobre el tema:`\n",
    "\n",
    "https://www.investopedia.com/terms/p/passiveinvesting.asp\n",
    "https://www.investopedia.com/terms/a/activeinvesting.asp  </font>"
   ]
  },
  {
   "attachments": {},
   "cell_type": "markdown",
   "metadata": {},
   "source": [
    "# <font color= #6B6B6B> <font size = 6> 1. Introducción </font>"
   ]
  },
  {
   "attachments": {},
   "cell_type": "markdown",
   "metadata": {},
   "source": [
    "En este **LABORATORIO 1**, nuestro desafío es identificar la mejor estrategia de inversión si nuestro trabajo fuera invertir un millón de pesos. Para ello, evaluaremos las características y el desempeño de dos estrategias: una *estrategia de inversión pasiva* y otra *estrategia de inversión activa*. Con la ayuda de la programación en Python, así como técnicas y conceptos avanzados de estadística y matemáticas financieras, examinaremos cómo se comportan estas estrategias. La estrategia pasiva incluye la compra de los títulos que componen el ETF NAFTRAC, con el objetivo de seguir el rendimiento del Índice de Precios y Cotizaciones (IPC) de la Bolsa Mexicana de Valores (BMV). Por otro lado, la estrategia activa implica la creación de un portafolio eficiente con estos mismos títulos y ajustes mensuales basados en un algoritmo específico de compra y venta de títulos.\n",
    "\n",
    "**Algunas de las variables que se tomaran en cuenta:**\n",
    "+ Un capital inicial de un millón de pesos $\\$ 1,000,000 MXN$.\n",
    "+ Las comisiones a pagar por cada transacción son del $0.125\\%$.\n",
    "+ No se permiten las posiciones cortas."
   ]
  },
  {
   "attachments": {},
   "cell_type": "markdown",
   "metadata": {},
   "source": [
    "# <font color= #6B6B6B> 2. Instalar/Cargar Paquetes y Dependencias </font>"
   ]
  },
  {
   "attachments": {},
   "cell_type": "markdown",
   "metadata": {},
   "source": [
    "## <font color= #6B6B6B> 2.1 Paquetes de Python </font> <font color= #555555>"
   ]
  },
  {
   "attachments": {},
   "cell_type": "markdown",
   "metadata": {},
   "source": [
    "Para correr este archivo, es necesario tener instaladas y/o tener el archivo `the_requirements.txt_` con las siguientes librerías:"
   ]
  },
  {
   "attachments": {},
   "cell_type": "markdown",
   "metadata": {},
   "source": [
    "- pandas\n",
    "- numpy \n",
    "- yfinance\n",
    "- pypfopt\n",
    "- plotly"
   ]
  },
  {
   "attachments": {},
   "cell_type": "markdown",
   "metadata": {},
   "source": [
    "## <font color= #6B6B6B> 2.2 Dependencias de Archivos </font> <font color= #555555>"
   ]
  },
  {
   "attachments": {},
   "cell_type": "markdown",
   "metadata": {},
   "source": [
    "Las siguientes son dependencias de archivos que se necesitan para correr este cuaderno de Jupyter:"
   ]
  },
  {
   "attachments": {},
   "cell_type": "markdown",
   "metadata": {},
   "source": [
    "**Files:** ['NAFTRAC_20210129.csv', 'NAFTRAC_20210226.csv', 'NAFTRAC_20210331.csv', 'NAFTRAC_20210430.csv',\n",
    "             'NAFTRAC_20210531.csv', 'NAFTRAC_20210630.csv', 'NAFTRAC_20210730.csv', 'NAFTRAC_20210831.csv',\n",
    "             'NAFTRAC_20210930.csv', 'NAFTRAC_20211026.csv', 'NAFTRAC_20211130.csv', 'NAFTRAC_20211231.csv',\n",
    "             'NAFTRAC_20220126.csv', 'NAFTRAC_20220228.csv', 'NAFTRAC_20220331.csv', 'NAFTRAC_20220429.csv',\n",
    "             'NAFTRAC_20220531.csv', 'NAFTRAC_20220630.csv', 'NAFTRAC_20220729.csv', 'NAFTRAC_20220831.csv',\n",
    "             'NAFTRAC_20220930.csv', 'NAFTRAC_20221031.csv', 'NAFTRAC_20221130.csv', 'NAFTRAC_20221230.csv',\n",
    "             'NAFTRAC_20230125.csv']"
   ]
  },
  {
   "attachments": {},
   "cell_type": "markdown",
   "metadata": {},
   "source": [
    "## <font color= #6E6E6E> 2.3 Instalar Paquetes </font>"
   ]
  },
  {
   "cell_type": "code",
   "execution_count": null,
   "metadata": {},
   "outputs": [
    {
     "ename": "",
     "evalue": "",
     "output_type": "error",
     "traceback": [
      "\u001b[1;31mLa ejecución de celdas con 'c:\\Users\\Valeria Araiza\\AppData\\Local\\Microsoft\\WindowsApps\\python3.10.exe' requiere el paquete ipykernel.\n",
      "\u001b[1;31mRun the following command to install 'ipykernel' into the Python environment. \n",
      "\u001b[1;31mCommand: '\"c:/Users/Valeria Araiza/AppData/Local/Microsoft/WindowsApps/python3.10.exe\" -m pip install ipykernel -U --user --force-reinstall'"
     ]
    }
   ],
   "source": [
    "\n",
    "import main\n",
    "capital, comision = 1000000, 0.00125"
   ]
  },
  {
   "attachments": {},
   "cell_type": "markdown",
   "metadata": {},
   "source": [
    "# <font color= #6B6B6B> 3. Estrategia de Inversión Pasiva </font>"
   ]
  }
 ],
 "metadata": {
  "kernelspec": {
   "display_name": "Python 3",
   "language": "python",
   "name": "python3"
  },
  "language_info": {
   "name": "python",
   "version": "3.10.10"
  },
  "orig_nbformat": 4,
  "vscode": {
   "interpreter": {
    "hash": "78f774a11896db2597cff595ef7b973cc434331a67c355aba3076a6ea17b0ddc"
   }
  }
 },
 "nbformat": 4,
 "nbformat_minor": 2
}
